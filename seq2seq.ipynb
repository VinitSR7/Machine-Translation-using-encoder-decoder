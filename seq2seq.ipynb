{
  "nbformat": 4,
  "nbformat_minor": 0,
  "metadata": {
    "kernelspec": {
      "display_name": "Python 3",
      "language": "python",
      "name": "python3"
    },
    "language_info": {
      "codemirror_mode": {
        "name": "ipython",
        "version": 3
      },
      "file_extension": ".py",
      "mimetype": "text/x-python",
      "name": "python",
      "nbconvert_exporter": "python",
      "pygments_lexer": "ipython3",
      "version": "3.7.4"
    },
    "colab": {
      "name": "EngtoGer_seq2seq.ipynb",
      "provenance": [],
      "collapsed_sections": [],
      "machine_shape": "hm"
    },
    "accelerator": "GPU"
  },
  "cells": [
    {
      "cell_type": "markdown",
      "metadata": {
        "id": "PcAhpv5imPqw",
        "colab_type": "text"
      },
      "source": [
        "# Neural Machine Translation Using Encoder Decoder"
      ]
    },
    {
      "cell_type": "markdown",
      "metadata": {
        "id": "ei-NQmIan-J6",
        "colab_type": "text"
      },
      "source": [
        "# Importing Libraries"
      ]
    },
    {
      "cell_type": "code",
      "metadata": {
        "id": "63rC81CMfkdl",
        "colab_type": "code",
        "colab": {}
      },
      "source": [
        "import pandas as pd\n",
        "import numpy as np\n",
        "import string\n",
        "from string import digits\n",
        "import matplotlib.pyplot as plt\n",
        "import re\n",
        "from sklearn.utils import shuffle\n",
        "from sklearn.model_selection import train_test_split\n",
        "from tensorflow.keras.layers import Input, LSTM, Embedding, Dense, TimeDistributed\n",
        "from tensorflow.keras.preprocessing import text, sequence\n",
        "from tensorflow.keras.utils import plot_model\n",
        "from tensorflow.keras.callbacks import ModelCheckpoint\n",
        "from tensorflow.keras.models import Model"
      ],
      "execution_count": 1,
      "outputs": []
    },
    {
      "cell_type": "code",
      "metadata": {
        "id": "BhpdwMVZg3Td",
        "colab_type": "code",
        "colab": {}
      },
      "source": [
        "from google.colab import drive\n",
        "drive.mount('/content/gdrive')"
      ],
      "execution_count": 3,
      "outputs": []
    },
    {
      "cell_type": "code",
      "metadata": {
        "id": "s0i2s2T_i7D5",
        "colab_type": "code",
        "colab": {
          "base_uri": "https://localhost:8080/",
          "height": 34
        },
        "outputId": "50c993e3-0d9d-4489-a68a-a0be7c4fd3a5"
      },
      "source": [
        "cd '/content/gdrive/My Drive/MachineTranslation/'"
      ],
      "execution_count": 3,
      "outputs": [
        {
          "output_type": "stream",
          "text": [
            "/content/gdrive/My Drive/MachineTranslation\n"
          ],
          "name": "stdout"
        }
      ]
    },
    {
      "cell_type": "markdown",
      "metadata": {
        "id": "B-NAUJ7dmXhS",
        "colab_type": "text"
      },
      "source": [
        "# Loading the Data"
      ]
    },
    {
      "cell_type": "code",
      "metadata": {
        "id": "z6MPmDf3nOKL",
        "colab_type": "code",
        "colab": {}
      },
      "source": [
        "df = pd.read_csv('deu.txt', delimiter = '\\t',names=[\"eng\", \"ger\", \"c\"])"
      ],
      "execution_count": 4,
      "outputs": []
    },
    {
      "cell_type": "code",
      "metadata": {
        "id": "3mRGv4De8CMp",
        "colab_type": "code",
        "colab": {
          "base_uri": "https://localhost:8080/",
          "height": 34
        },
        "outputId": "d63b693b-a0ef-4611-b9c1-0aad5791817d"
      },
      "source": [
        "df.shape"
      ],
      "execution_count": 5,
      "outputs": [
        {
          "output_type": "execute_result",
          "data": {
            "text/plain": [
              "(200519, 3)"
            ]
          },
          "metadata": {
            "tags": []
          },
          "execution_count": 5
        }
      ]
    },
    {
      "cell_type": "code",
      "metadata": {
        "id": "mPfqlyWF9Dav",
        "colab_type": "code",
        "colab": {}
      },
      "source": [
        "df = df.drop(['c'], axis = 1)"
      ],
      "execution_count": 6,
      "outputs": []
    },
    {
      "cell_type": "code",
      "metadata": {
        "id": "CeJDCbRWf3f9",
        "colab_type": "code",
        "colab": {
          "base_uri": "https://localhost:8080/",
          "height": 359
        },
        "outputId": "5fb72ca3-0268-4fb6-92d1-946f2328a75f"
      },
      "source": [
        "df.sample(10)"
      ],
      "execution_count": 7,
      "outputs": [
        {
          "output_type": "execute_result",
          "data": {
            "text/html": [
              "<div>\n",
              "<style scoped>\n",
              "    .dataframe tbody tr th:only-of-type {\n",
              "        vertical-align: middle;\n",
              "    }\n",
              "\n",
              "    .dataframe tbody tr th {\n",
              "        vertical-align: top;\n",
              "    }\n",
              "\n",
              "    .dataframe thead th {\n",
              "        text-align: right;\n",
              "    }\n",
              "</style>\n",
              "<table border=\"1\" class=\"dataframe\">\n",
              "  <thead>\n",
              "    <tr style=\"text-align: right;\">\n",
              "      <th></th>\n",
              "      <th>eng</th>\n",
              "      <th>ger</th>\n",
              "    </tr>\n",
              "  </thead>\n",
              "  <tbody>\n",
              "    <tr>\n",
              "      <th>180504</th>\n",
              "      <td>Tom was fired for constantly being late to work.</td>\n",
              "      <td>Tom wurde entlassen, weil er immer zu spät zur...</td>\n",
              "    </tr>\n",
              "    <tr>\n",
              "      <th>13268</th>\n",
              "      <td>You must choose.</td>\n",
              "      <td>Ihr müsst wählen.</td>\n",
              "    </tr>\n",
              "    <tr>\n",
              "      <th>32778</th>\n",
              "      <td>This is what I need.</td>\n",
              "      <td>Das ist es, was ich brauche.</td>\n",
              "    </tr>\n",
              "    <tr>\n",
              "      <th>168780</th>\n",
              "      <td>You can do whatever you want to, of course.</td>\n",
              "      <td>Du kannst natürlich tun, was immer dir beliebt.</td>\n",
              "    </tr>\n",
              "    <tr>\n",
              "      <th>147822</th>\n",
              "      <td>I'd like to help you reach your goals.</td>\n",
              "      <td>Ich würde Ihnen gerne helfen, Ihre Ziele zu er...</td>\n",
              "    </tr>\n",
              "    <tr>\n",
              "      <th>145057</th>\n",
              "      <td>Tom isn't the right man for this job.</td>\n",
              "      <td>Tom ist nicht der Richtige für diesen Job.</td>\n",
              "    </tr>\n",
              "    <tr>\n",
              "      <th>40291</th>\n",
              "      <td>What is today's date?</td>\n",
              "      <td>Der Wievielte ist heute?</td>\n",
              "    </tr>\n",
              "    <tr>\n",
              "      <th>189214</th>\n",
              "      <td>All horses are animals, but not all animals ar...</td>\n",
              "      <td>Alle Pferde sind Tiere, jedoch nicht alle Tier...</td>\n",
              "    </tr>\n",
              "    <tr>\n",
              "      <th>24348</th>\n",
              "      <td>Here are your keys.</td>\n",
              "      <td>Hier sind deine Schlüssel.</td>\n",
              "    </tr>\n",
              "    <tr>\n",
              "      <th>121064</th>\n",
              "      <td>I'm sure Tom would appreciate it.</td>\n",
              "      <td>Ich bin sicher, Tom würde das zu schätzen wissen.</td>\n",
              "    </tr>\n",
              "  </tbody>\n",
              "</table>\n",
              "</div>"
            ],
            "text/plain": [
              "                                                      eng                                                ger\n",
              "180504   Tom was fired for constantly being late to work.  Tom wurde entlassen, weil er immer zu spät zur...\n",
              "13268                                    You must choose.                                  Ihr müsst wählen.\n",
              "32778                                This is what I need.                       Das ist es, was ich brauche.\n",
              "168780        You can do whatever you want to, of course.    Du kannst natürlich tun, was immer dir beliebt.\n",
              "147822             I'd like to help you reach your goals.  Ich würde Ihnen gerne helfen, Ihre Ziele zu er...\n",
              "145057              Tom isn't the right man for this job.         Tom ist nicht der Richtige für diesen Job.\n",
              "40291                               What is today's date?                           Der Wievielte ist heute?\n",
              "189214  All horses are animals, but not all animals ar...  Alle Pferde sind Tiere, jedoch nicht alle Tier...\n",
              "24348                                 Here are your keys.                         Hier sind deine Schlüssel.\n",
              "121064                  I'm sure Tom would appreciate it.  Ich bin sicher, Tom würde das zu schätzen wissen."
            ]
          },
          "metadata": {
            "tags": []
          },
          "execution_count": 7
        }
      ]
    },
    {
      "cell_type": "markdown",
      "metadata": {
        "id": "kBVGrKQ7mb83",
        "colab_type": "text"
      },
      "source": [
        "# Preprocessing Data"
      ]
    },
    {
      "cell_type": "code",
      "metadata": {
        "id": "5J-TT-Dlf3oC",
        "colab_type": "code",
        "colab": {}
      },
      "source": [
        "# Lowercase all characters\n",
        "df.eng=df.eng.apply(lambda x: x.lower())\n",
        "df.ger=df.ger.apply(lambda x: x.lower())"
      ],
      "execution_count": 8,
      "outputs": []
    },
    {
      "cell_type": "code",
      "metadata": {
        "id": "o_VM2XoIf3qw",
        "colab_type": "code",
        "colab": {}
      },
      "source": [
        "# Remove quotes\n",
        "df.eng=df.eng.apply(lambda x: re.sub(\"'\", '', x))\n",
        "df.ger=df.ger.apply(lambda x: re.sub(\"'\", '', x))"
      ],
      "execution_count": 9,
      "outputs": []
    },
    {
      "cell_type": "code",
      "metadata": {
        "id": "zHhKXyj1f3xD",
        "colab_type": "code",
        "colab": {}
      },
      "source": [
        "# Remove all the special characters\n",
        "exclude = set(string.punctuation) # Set of all special characters\n",
        "\n",
        "df.eng=df.eng.apply(lambda x: ''.join(ch for ch in x if ch not in exclude))\n",
        "df.ger=df.ger.apply(lambda x: ''.join(ch for ch in x if ch not in exclude))"
      ],
      "execution_count": 10,
      "outputs": []
    },
    {
      "cell_type": "code",
      "metadata": {
        "id": "ob21s668f37b",
        "colab_type": "code",
        "colab": {}
      },
      "source": [
        "# Remove extra spaces\n",
        "df.eng=df.eng.apply(lambda x: x.strip())\n",
        "df.ger=df.ger.apply(lambda x: x.strip())"
      ],
      "execution_count": 11,
      "outputs": []
    },
    {
      "cell_type": "code",
      "metadata": {
        "id": "D7Gbizhif35J",
        "colab_type": "code",
        "colab": {}
      },
      "source": [
        "# Add start and end tokens to target sequences\n",
        "df.eng = df.eng.apply(lambda x: 'startseq ' + x + ' endseq')\n",
        "df.ger = df.ger.apply(lambda x : 'startseq '+ x + ' endseq')"
      ],
      "execution_count": 12,
      "outputs": []
    },
    {
      "cell_type": "code",
      "metadata": {
        "id": "1_Z2-JzNf33o",
        "colab_type": "code",
        "colab": {
          "base_uri": "https://localhost:8080/",
          "height": 359
        },
        "outputId": "fcd2784f-4b2a-4fec-ff9b-c2ad3cbc81fd"
      },
      "source": [
        "df.sample(10)"
      ],
      "execution_count": 13,
      "outputs": [
        {
          "output_type": "execute_result",
          "data": {
            "text/html": [
              "<div>\n",
              "<style scoped>\n",
              "    .dataframe tbody tr th:only-of-type {\n",
              "        vertical-align: middle;\n",
              "    }\n",
              "\n",
              "    .dataframe tbody tr th {\n",
              "        vertical-align: top;\n",
              "    }\n",
              "\n",
              "    .dataframe thead th {\n",
              "        text-align: right;\n",
              "    }\n",
              "</style>\n",
              "<table border=\"1\" class=\"dataframe\">\n",
              "  <thead>\n",
              "    <tr style=\"text-align: right;\">\n",
              "      <th></th>\n",
              "      <th>eng</th>\n",
              "      <th>ger</th>\n",
              "    </tr>\n",
              "  </thead>\n",
              "  <tbody>\n",
              "    <tr>\n",
              "      <th>149639</th>\n",
              "      <td>startseq tom is going to change his mind again...</td>\n",
              "      <td>startseq tom wird es sich wieder anders überle...</td>\n",
              "    </tr>\n",
              "    <tr>\n",
              "      <th>3392</th>\n",
              "      <td>startseq i went there endseq</td>\n",
              "      <td>startseq ich ging hin endseq</td>\n",
              "    </tr>\n",
              "    <tr>\n",
              "      <th>44370</th>\n",
              "      <td>startseq my shopping bag broke endseq</td>\n",
              "      <td>startseq meine einkaufstasche ging kaputt endseq</td>\n",
              "    </tr>\n",
              "    <tr>\n",
              "      <th>57329</th>\n",
              "      <td>startseq is boston very far away endseq</td>\n",
              "      <td>startseq ist boston sehr weit weg endseq</td>\n",
              "    </tr>\n",
              "    <tr>\n",
              "      <th>83473</th>\n",
              "      <td>startseq you should finish the work endseq</td>\n",
              "      <td>startseq du solltest die arbeit fertigstellen ...</td>\n",
              "    </tr>\n",
              "    <tr>\n",
              "      <th>90734</th>\n",
              "      <td>startseq you must help set the table endseq</td>\n",
              "      <td>startseq ihr müsst helfen den tisch zu decken ...</td>\n",
              "    </tr>\n",
              "    <tr>\n",
              "      <th>32731</th>\n",
              "      <td>startseq this is a great day endseq</td>\n",
              "      <td>startseq heute ist ein großer tag endseq</td>\n",
              "    </tr>\n",
              "    <tr>\n",
              "      <th>18384</th>\n",
              "      <td>startseq do you like these endseq</td>\n",
              "      <td>startseq magst du diese endseq</td>\n",
              "    </tr>\n",
              "    <tr>\n",
              "      <th>54433</th>\n",
              "      <td>startseq youre too good for me endseq</td>\n",
              "      <td>startseq du bist zu gut für mich endseq</td>\n",
              "    </tr>\n",
              "    <tr>\n",
              "      <th>29368</th>\n",
              "      <td>startseq dont open the door endseq</td>\n",
              "      <td>startseq öffne die tür nicht endseq</td>\n",
              "    </tr>\n",
              "  </tbody>\n",
              "</table>\n",
              "</div>"
            ],
            "text/plain": [
              "                                                      eng                                                ger\n",
              "149639  startseq tom is going to change his mind again...  startseq tom wird es sich wieder anders überle...\n",
              "3392                         startseq i went there endseq                       startseq ich ging hin endseq\n",
              "44370               startseq my shopping bag broke endseq   startseq meine einkaufstasche ging kaputt endseq\n",
              "57329             startseq is boston very far away endseq           startseq ist boston sehr weit weg endseq\n",
              "83473          startseq you should finish the work endseq  startseq du solltest die arbeit fertigstellen ...\n",
              "90734         startseq you must help set the table endseq  startseq ihr müsst helfen den tisch zu decken ...\n",
              "32731                 startseq this is a great day endseq           startseq heute ist ein großer tag endseq\n",
              "18384                   startseq do you like these endseq                     startseq magst du diese endseq\n",
              "54433               startseq youre too good for me endseq            startseq du bist zu gut für mich endseq\n",
              "29368                  startseq dont open the door endseq                startseq öffne die tür nicht endseq"
            ]
          },
          "metadata": {
            "tags": []
          },
          "execution_count": 13
        }
      ]
    },
    {
      "cell_type": "markdown",
      "metadata": {
        "id": "XXkyOLornwL4",
        "colab_type": "text"
      },
      "source": [
        "# Train, Val, Test Split"
      ]
    },
    {
      "cell_type": "code",
      "metadata": {
        "id": "yQykJIx4m1PE",
        "colab_type": "code",
        "colab": {}
      },
      "source": [
        "from sklearn.model_selection import train_test_split\n",
        "X_train, X_test, Y_train, Y_test = train_test_split(df['eng'], df['ger'],  train_size=0.8)"
      ],
      "execution_count": 14,
      "outputs": []
    },
    {
      "cell_type": "code",
      "metadata": {
        "id": "5I_MmOWuNqcl",
        "colab_type": "code",
        "colab": {
          "base_uri": "https://localhost:8080/",
          "height": 34
        },
        "outputId": "221ff73f-91b3-4f57-95dd-5947cbe8cef9"
      },
      "source": [
        "c = 0\n",
        "for i in df['eng']:\n",
        "  if len(i.split()) < 20:\n",
        "    c+=1\n",
        "(1.0*c)/len(df)"
      ],
      "execution_count": 15,
      "outputs": [
        {
          "output_type": "execute_result",
          "data": {
            "text/plain": [
              "0.996519033109082"
            ]
          },
          "metadata": {
            "tags": []
          },
          "execution_count": 15
        }
      ]
    },
    {
      "cell_type": "markdown",
      "metadata": {
        "id": "VW2votGamGzl",
        "colab_type": "text"
      },
      "source": [
        "# Tokenization"
      ]
    },
    {
      "cell_type": "code",
      "metadata": {
        "id": "io8qZ64amN2h",
        "colab_type": "code",
        "colab": {}
      },
      "source": [
        "from tensorflow.keras.preprocessing.text import Tokenizer\n",
        "from tensorflow.keras.preprocessing.sequence import pad_sequences\n",
        "from tensorflow.keras.utils import to_categorical"
      ],
      "execution_count": 16,
      "outputs": []
    },
    {
      "cell_type": "markdown",
      "metadata": {
        "id": "avyjcNGuncDV",
        "colab_type": "text"
      },
      "source": [
        "### English Tokenization"
      ]
    },
    {
      "cell_type": "code",
      "metadata": {
        "id": "W1X5Aw7GmJ1j",
        "colab_type": "code",
        "colab": {}
      },
      "source": [
        "def pad_sequence(t, padding_var = 20):\n",
        "    t = sequence.pad_sequences(t, maxlen=padding_var, padding='post') \n",
        "    return t\n",
        "\n",
        "def build_data(train, test):\n",
        "  print(\"=\"*100)\n",
        "  print(\"Fitting the Tokenizer...\")\n",
        "  tokenizer = Tokenizer(lower=True)\n",
        "  tokenizer.fit_on_texts(train)\n",
        "  print(\"Done...\")\n",
        "  print('Found %s unique tokens.' % len(tokenizer.word_counts))\n",
        "  print(\"=\"*100)\n",
        "  print()\n",
        "  print(\"Processing Text to sequence process\")\n",
        "  train = tokenizer.texts_to_sequences(train)\n",
        "  test = tokenizer.texts_to_sequences(test)\n",
        "  print(\"Done\")\n",
        "  print(\"=\"*100)\n",
        "  print()\n",
        "  print(\"Starting Padding Process...\")  \n",
        "  train = pad_sequence(train)\n",
        "  test = pad_sequence(test)\n",
        "  print(\"Done\")\n",
        "  return train, test, tokenizer"
      ],
      "execution_count": 17,
      "outputs": []
    },
    {
      "cell_type": "markdown",
      "metadata": {
        "id": "mtTF4YHGqjXL",
        "colab_type": "text"
      },
      "source": [
        "## English Tokenization"
      ]
    },
    {
      "cell_type": "code",
      "metadata": {
        "id": "ba-poJITpqha",
        "colab_type": "code",
        "colab": {
          "base_uri": "https://localhost:8080/",
          "height": 221
        },
        "outputId": "24d5bb7e-f5cf-4a99-9e40-dc387fb1260e"
      },
      "source": [
        "X_train, X_test, tokenizer_eng = build_data(X_train, X_test)"
      ],
      "execution_count": 18,
      "outputs": [
        {
          "output_type": "stream",
          "text": [
            "====================================================================================================\n",
            "Fitting the Tokenizer...\n",
            "Done...\n",
            "Found 15125 unique tokens.\n",
            "====================================================================================================\n",
            "\n",
            "Processing Text to sequence process\n",
            "Done\n",
            "====================================================================================================\n",
            "\n",
            "Starting Padding Process...\n",
            "Done\n"
          ],
          "name": "stdout"
        }
      ]
    },
    {
      "cell_type": "markdown",
      "metadata": {
        "id": "8xnk1Zllqmbp",
        "colab_type": "text"
      },
      "source": [
        "## German Tokenization"
      ]
    },
    {
      "cell_type": "code",
      "metadata": {
        "id": "k6RG0ikuMx2E",
        "colab_type": "code",
        "colab": {
          "base_uri": "https://localhost:8080/",
          "height": 221
        },
        "outputId": "a54da9eb-4d69-4b5b-86f7-32a46ba07f87"
      },
      "source": [
        "Y_train, Y_test, tokenizer_ger = build_data(Y_train, Y_test)"
      ],
      "execution_count": 19,
      "outputs": [
        {
          "output_type": "stream",
          "text": [
            "====================================================================================================\n",
            "Fitting the Tokenizer...\n",
            "Done...\n",
            "Found 31766 unique tokens.\n",
            "====================================================================================================\n",
            "\n",
            "Processing Text to sequence process\n",
            "Done\n",
            "====================================================================================================\n",
            "\n",
            "Starting Padding Process...\n",
            "Done\n"
          ],
          "name": "stdout"
        }
      ]
    },
    {
      "cell_type": "code",
      "metadata": {
        "id": "WspQ40Ctf3tU",
        "colab_type": "code",
        "colab": {
          "base_uri": "https://localhost:8080/",
          "height": 34
        },
        "outputId": "a862af9c-09f5-4cdb-d8bd-88525723eaf1"
      },
      "source": [
        "num_encoder_tokens = len(tokenizer_eng.word_counts)\n",
        "num_decoder_tokens = len(tokenizer_ger.word_counts)+1\n",
        "num_encoder_tokens, num_decoder_tokens"
      ],
      "execution_count": 20,
      "outputs": [
        {
          "output_type": "execute_result",
          "data": {
            "text/plain": [
              "(15125, 31767)"
            ]
          },
          "metadata": {
            "tags": []
          },
          "execution_count": 20
        }
      ]
    },
    {
      "cell_type": "markdown",
      "metadata": {
        "id": "FKh1ozVHmkxg",
        "colab_type": "text"
      },
      "source": [
        "# Processing Embedding Matrix"
      ]
    },
    {
      "cell_type": "code",
      "metadata": {
        "id": "Ig3HF6RAEfpx",
        "colab_type": "code",
        "colab": {}
      },
      "source": [
        "# !python -m spacy download en_core_web_lg\n",
        "# !python -m spacy download de_core_news_md"
      ],
      "execution_count": 22,
      "outputs": []
    },
    {
      "cell_type": "code",
      "metadata": {
        "id": "xO84M54YFO_5",
        "colab_type": "code",
        "colab": {}
      },
      "source": [
        "import en_core_web_lg\n",
        "import de_core_news_md\n",
        "eng = en_core_web_lg.load()\n",
        "ger = de_core_news_md.load()"
      ],
      "execution_count": 23,
      "outputs": []
    },
    {
      "cell_type": "code",
      "metadata": {
        "id": "5BMoPoN-rLe6",
        "colab_type": "code",
        "colab": {}
      },
      "source": [
        "def build_embedding_matrix(tokenizer, build_y = False):\n",
        "    base = eng\n",
        "    if(build_y):\n",
        "      base = ger\n",
        "    embedding_matrix = np.zeros((len(tokenizer.word_counts) + 1, 300))\n",
        "\n",
        "    for word, i in tokenizer.word_index.items():  \n",
        "        embedding_matrix[i] = base(word).vector\n",
        "    \n",
        "    return embedding_matrix \n",
        "embedding_matrix_enc = build_embedding_matrix(tokenizer_eng)\n",
        "embedding_matrix_dec = build_embedding_matrix(tokenizer_ger, build_y = True)"
      ],
      "execution_count": 24,
      "outputs": []
    },
    {
      "cell_type": "code",
      "metadata": {
        "id": "C90ve8N-saIa",
        "colab_type": "code",
        "colab": {
          "base_uri": "https://localhost:8080/",
          "height": 34
        },
        "outputId": "2f6413a7-912b-4d49-e2a4-496ecc1213f8"
      },
      "source": [
        "embedding_matrix_enc.shape, embedding_matrix_dec.shape"
      ],
      "execution_count": 25,
      "outputs": [
        {
          "output_type": "execute_result",
          "data": {
            "text/plain": [
              "((15126, 300), (31767, 300))"
            ]
          },
          "metadata": {
            "tags": []
          },
          "execution_count": 25
        }
      ]
    },
    {
      "cell_type": "markdown",
      "metadata": {
        "id": "GZMEiKwJnWKL",
        "colab_type": "text"
      },
      "source": [
        "# Defining The Model"
      ]
    },
    {
      "cell_type": "code",
      "metadata": {
        "id": "Ej0wR3OMf3ZK",
        "colab_type": "code",
        "colab": {}
      },
      "source": [
        "def build_model(latent_dim=256):\n",
        "    \n",
        "    embedding_enc = Embedding(*embedding_matrix_enc.shape, weights=[embedding_matrix_enc], trainable=False, mask_zero=True, name = \"Encoder_Embedding\")\n",
        "    embedding_dec = Embedding(*embedding_matrix_dec.shape, weights=[embedding_matrix_dec], trainable=False, mask_zero=True, name = \"Decoder_Embedding\")\n",
        "    \n",
        "    \"\"\" Encoder question \"\"\"\n",
        "    encoder_inputs = Input(shape=(None,), name=\"encoder_input\")\n",
        "    enc_emb = embedding_enc(encoder_inputs) \n",
        "    _, state_h, state_c = LSTM(latent_dim, return_state=True, name=\"Encoder_LSTM\")(enc_emb)\n",
        "    encoder_states = [state_h, state_c]\n",
        "\n",
        "    \"\"\" decoder Model \"\"\"\n",
        "    decoder_inputs = Input(shape=(None,), name=\"decoder_input\") \n",
        "    dec_emb_layer = embedding_dec(decoder_inputs)\n",
        "    lstm_layer = LSTM(latent_dim, return_sequences=True, return_state=True, name = \"Decoder_LSTM\")\n",
        "    decoder_outputs, _, _ = lstm_layer(dec_emb_layer,initial_state=encoder_states)\n",
        " \n",
        "    dense = Dense(num_decoder_tokens, activation='softmax', name='softmax_layer')\n",
        "    dense_time = TimeDistributed(dense, name='time_distributed_layer')\n",
        "    decoder_outputs = dense_time(decoder_outputs)    # Final decoder model \n",
        "\n",
        "    model = Model(inputs = [encoder_inputs, decoder_inputs], outputs = [decoder_outputs])\n",
        "    \n",
        "    \"\"\" Inference Models \"\"\"\n",
        "    # Encode the input sequence to get the \"thought vectors\"\n",
        "    encoder_model = Model([encoder_inputs], outputs = encoder_states)\n",
        "\n",
        "    # Decoder setup\n",
        "    # Below tensors will hold the states of the previous time step  \n",
        "    decoder_state_input_h = Input(shape=(latent_dim,), name=\"decoder_state1\")\n",
        "    decoder_state_input_c = Input(shape=(latent_dim,), name=\"decoder_state2\")\n",
        "\n",
        "    decoder_states_inputs = [decoder_state_input_h, decoder_state_input_c]\n",
        "     \n",
        "    # To predict the next word in the sequence, set the initial states to the states from the previous time step\n",
        "    decoder_outputs, state_h, state_c = lstm_layer(dec_emb_layer, initial_state=decoder_states_inputs)\n",
        "    decoder_states = [state_h, state_c]\n",
        "\n",
        "    decoder_outputs = dense_time(decoder_outputs)    # Final decoder model \n",
        "    # Final decoder model\n",
        "    decoder_model = Model(inputs = [decoder_inputs, decoder_states_inputs], outputs = [decoder_outputs, decoder_states])   \n",
        "\n",
        "    model.compile(optimizer='adam', loss='categorical_crossentropy')\n",
        "\n",
        "    return model, encoder_model, decoder_model"
      ],
      "execution_count": 65,
      "outputs": []
    },
    {
      "cell_type": "code",
      "metadata": {
        "id": "9eHompu6xL2t",
        "colab_type": "code",
        "colab": {}
      },
      "source": [
        "model, encoder_model, decoder_model = build_model()"
      ],
      "execution_count": 66,
      "outputs": []
    },
    {
      "cell_type": "code",
      "metadata": {
        "id": "xuV_iKPBxgiW",
        "colab_type": "code",
        "colab": {
          "base_uri": "https://localhost:8080/",
          "height": 533
        },
        "outputId": "683c32ee-f6c8-48b2-83c1-8ff4f030c324"
      },
      "source": [
        "plot_model(\n",
        "    model, to_file='model.png', show_shapes=True, show_layer_names=True,\n",
        "    rankdir='TB', expand_nested=False, dpi=96\n",
        ")"
      ],
      "execution_count": 67,
      "outputs": [
        {
          "output_type": "execute_result",
          "data": {
            "image/png": "[encoded data removed]",
            "text/plain": [
              "<IPython.core.display.Image object>"
            ]
          },
          "metadata": {
            "tags": []
          },
          "execution_count": 67
        }
      ]
    },
    {
      "cell_type": "code",
      "metadata": {
        "id": "6_8E3iEQyIo9",
        "colab_type": "code",
        "colab": {
          "base_uri": "https://localhost:8080/",
          "height": 312
        },
        "outputId": "e09dc507-cbbe-4390-bc5f-543a91c35a4b"
      },
      "source": [
        "plot_model(\n",
        "    encoder_model, to_file='encoder_model.png', show_shapes=True, show_layer_names=True,\n",
        "    rankdir='TB', expand_nested=False, dpi=96\n",
        ")"
      ],
      "execution_count": 68,
      "outputs": [
        {
          "output_type": "execute_result",
          "data": {
            "image/png": "[encoded data removed]",
            "text/plain": [
              "<IPython.core.display.Image object>"
            ]
          },
          "metadata": {
            "tags": []
          },
          "execution_count": 68
        }
      ]
    },
    {
      "cell_type": "code",
      "metadata": {
        "id": "7Dquw9OwyIkv",
        "colab_type": "code",
        "colab": {
          "base_uri": "https://localhost:8080/",
          "height": 396
        },
        "outputId": "b01fceba-dcd5-469d-f9cc-bfdb55807871"
      },
      "source": [
        "plot_model(\n",
        "    decoder_model, to_file='decoder_model.png', show_shapes=True, show_layer_names=True,\n",
        "    rankdir='TB', expand_nested=False, dpi=96\n",
        ")"
      ],
      "execution_count": 69,
      "outputs": [
        {
          "output_type": "execute_result",
          "data": {
            "image/png": "[encoded data removed]",
            "text/plain": [
              "<IPython.core.display.Image object>"
            ]
          },
          "metadata": {
            "tags": []
          },
          "execution_count": 69
        }
      ]
    },
    {
      "cell_type": "code",
      "metadata": {
        "id": "xaojtEV2Jrjy",
        "colab_type": "code",
        "colab": {}
      },
      "source": [
        "def generate_batch(X, y, batch_size):\n",
        "    ''' Generate a batch of data '''\n",
        "    while True:\n",
        "        for j in range(0, len(X), batch_size):\n",
        "            encoder_input_data = np.array(X[j:j+batch_size])\n",
        "            decoder_input_data = np.array(y[j:j+batch_size])\n",
        "            decoder_target_data = np.zeros((encoder_input_data.shape[0], 20, num_decoder_tokens),dtype='float32')\n",
        "            for i, target_text in enumerate(y[j:j+batch_size]):\n",
        "                for t, index in enumerate(target_text):\n",
        "                    if t>0:\n",
        "                        # decoder target sequence (one hot encoded)\n",
        "                        # does not include the START_ token\n",
        "                        decoder_target_data[i, t - 1, index] = 1.\n",
        "           \n",
        "            yield([encoder_input_data, decoder_input_data], decoder_target_data)"
      ],
      "execution_count": 70,
      "outputs": []
    },
    {
      "cell_type": "code",
      "metadata": {
        "id": "hcke7AKdgcKm",
        "colab_type": "code",
        "colab": {
          "base_uri": "https://localhost:8080/",
          "height": 34
        },
        "outputId": "3e5cc412-b49d-4479-9fe5-bae753e67c42"
      },
      "source": [
        "train_samples = len(X_train)\n",
        "val_samples = len(X_test)\n",
        "batch_size = 64\n",
        "epochs = 20\n",
        "train_samples, val_samples"
      ],
      "execution_count": 71,
      "outputs": [
        {
          "output_type": "execute_result",
          "data": {
            "text/plain": [
              "(160415, 40104)"
            ]
          },
          "metadata": {
            "tags": []
          },
          "execution_count": 71
        }
      ]
    },
    {
      "cell_type": "code",
      "metadata": {
        "id": "z3_-yYk4OmW5",
        "colab_type": "code",
        "colab": {}
      },
      "source": [
        "filepath=\"model/weights-improvement-{epoch:02d}.hdf5\"\n",
        "checkpoint = ModelCheckpoint(filepath, monitor='val_loss', save_best_only=True, mode='min')\n",
        "callbacks_list = [checkpoint]"
      ],
      "execution_count": 72,
      "outputs": []
    },
    {
      "cell_type": "code",
      "metadata": {
        "id": "W93Nr1YKgcCH",
        "colab_type": "code",
        "colab": {
          "base_uri": "https://localhost:8080/",
          "height": 714
        },
        "outputId": "976fde9a-1dd5-45d0-a520-c4f9989b6d31"
      },
      "source": [
        "model.fit_generator(generator = generate_batch(X_train, Y_train, batch_size = batch_size),\n",
        "  steps_per_epoch = len(X_train)//batch_size,\n",
        "  epochs=epochs,\n",
        "  validation_data = generate_batch(X_test, Y_test, batch_size = batch_size),\n",
        "  validation_steps = len(X_test)//batch_size,\n",
        "  callbacks = callbacks_list)"
      ],
      "execution_count": 73,
      "outputs": [
        {
          "output_type": "stream",
          "text": [
            "Epoch 1/20\n",
            "2506/2506 [==============================] - 274s 110ms/step - loss: 1.6812 - val_loss: 1.2447\n",
            "Epoch 2/20\n",
            "2506/2506 [==============================] - 271s 108ms/step - loss: 1.1083 - val_loss: 0.9790\n",
            "Epoch 3/20\n",
            "2506/2506 [==============================] - 265s 106ms/step - loss: 0.8731 - val_loss: 0.8570\n",
            "Epoch 4/20\n",
            "2506/2506 [==============================] - 263s 105ms/step - loss: 0.7285 - val_loss: 0.7969\n",
            "Epoch 5/20\n",
            "2506/2506 [==============================] - 263s 105ms/step - loss: 0.6305 - val_loss: 0.7634\n",
            "Epoch 6/20\n",
            "2506/2506 [==============================] - 262s 105ms/step - loss: 0.5598 - val_loss: 0.7469\n",
            "Epoch 7/20\n",
            "2506/2506 [==============================] - 261s 104ms/step - loss: 0.5077 - val_loss: 0.7388\n",
            "Epoch 8/20\n",
            "2506/2506 [==============================] - 259s 103ms/step - loss: 0.4681 - val_loss: 0.7363\n",
            "Epoch 9/20\n",
            "2506/2506 [==============================] - 263s 105ms/step - loss: 0.4368 - val_loss: 0.7390\n",
            "Epoch 10/20\n",
            "2506/2506 [==============================] - 262s 105ms/step - loss: 0.4108 - val_loss: 0.7447\n",
            "Epoch 11/20\n",
            "2506/2506 [==============================] - 258s 103ms/step - loss: 0.3888 - val_loss: 0.7525\n",
            "Epoch 12/20\n",
            "2506/2506 [==============================] - 254s 101ms/step - loss: 0.3695 - val_loss: 0.7624\n",
            "Epoch 13/20\n",
            "2506/2506 [==============================] - 255s 102ms/step - loss: 0.3526 - val_loss: 0.7730\n",
            "Epoch 14/20\n",
            "2506/2506 [==============================] - 254s 101ms/step - loss: 0.3377 - val_loss: 0.7806\n",
            "Epoch 15/20\n",
            "2506/2506 [==============================] - 255s 102ms/step - loss: 0.3242 - val_loss: 0.7914\n",
            "Epoch 16/20\n",
            "2506/2506 [==============================] - 257s 102ms/step - loss: 0.3122 - val_loss: 0.8018\n",
            "Epoch 17/20\n",
            "2506/2506 [==============================] - 259s 103ms/step - loss: 0.3012 - val_loss: 0.8132\n",
            "Epoch 18/20\n",
            "2506/2506 [==============================] - 258s 103ms/step - loss: 0.2914 - val_loss: 0.8217\n",
            "Epoch 19/20\n",
            "2506/2506 [==============================] - 255s 102ms/step - loss: 0.2817 - val_loss: 0.8306\n",
            "Epoch 20/20\n",
            "2506/2506 [==============================] - 254s 101ms/step - loss: 0.2733 - val_loss: 0.8396\n"
          ],
          "name": "stdout"
        },
        {
          "output_type": "execute_result",
          "data": {
            "text/plain": [
              "<tensorflow.python.keras.callbacks.History at 0x7f9ecd86f208>"
            ]
          },
          "metadata": {
            "tags": []
          },
          "execution_count": 73
        }
      ]
    },
    {
      "cell_type": "code",
      "metadata": {
        "id": "f62TADzrPodD",
        "colab_type": "code",
        "colab": {}
      },
      "source": [
        "model.save_weights('model/final_model.h5')"
      ],
      "execution_count": 75,
      "outputs": []
    },
    {
      "cell_type": "code",
      "metadata": {
        "id": "BxBvAI4feH_Y",
        "colab_type": "code",
        "colab": {}
      },
      "source": [
        "# saving\n",
        "import pickle\n",
        "with open('model/tokenizer_eng.pickle', 'wb') as handle:\n",
        "    pickle.dump(tokenizer_eng, handle, protocol=pickle.HIGHEST_PROTOCOL)\n",
        "# saving\n",
        "with open('model/tokenizer_ger.pickle', 'wb') as handle:\n",
        "    pickle.dump(tokenizer_ger, handle, protocol=pickle.HIGHEST_PROTOCOL)"
      ],
      "execution_count": 88,
      "outputs": []
    },
    {
      "cell_type": "code",
      "metadata": {
        "id": "E_wzgVC-1o2m",
        "colab_type": "code",
        "colab": {}
      },
      "source": [
        "# model.load_weights('model/final_model.h5')"
      ],
      "execution_count": null,
      "outputs": []
    },
    {
      "cell_type": "markdown",
      "metadata": {
        "id": "Pk0G8vB3HGH1",
        "colab_type": "text"
      },
      "source": [
        "# Inference"
      ]
    },
    {
      "cell_type": "code",
      "metadata": {
        "id": "R54c1UTf1q7H",
        "colab_type": "code",
        "colab": {}
      },
      "source": [
        "def pad_sequence(t, padding_var = 20):\n",
        "    t = sequence.pad_sequences(t, maxlen=padding_var, padding='post') \n",
        "    return t\n",
        "\n",
        "\n",
        "def decode_sequence(text, tokenizer_text = tokenizer_eng, tokenizer_Y = tokenizer_ger):\n",
        "    # Text to sequence\n",
        "    text = \"startseq \" + text + \" endseq\"\n",
        "    text = pad_sequence(tokenizer_text.texts_to_sequences([text]))\n",
        "\n",
        "    # Encode the input as state vectors.\n",
        "    input_seq = [np.array(text).reshape(1, 20)]\n",
        "    states_value = encoder_model.predict(input_seq)\n",
        "\n",
        "    # Generate empty target sequence of length 1.\n",
        "    target_seq = np.zeros((1,1))\n",
        "\n",
        "    # Populate the first character of target sequence with the start character.\n",
        "    target_seq[0, 0] = tokenizer_Y.word_index['startseq']\n",
        "  \n",
        "    decoded_sentence = ''\n",
        "    while True:\n",
        "        output_tokens, states_value = decoder_model.predict([target_seq, states_value])\n",
        "\n",
        "        # Sample a token\n",
        "        sampled_token_index = np.argmax(output_tokens[0, -1, :])\n",
        "        sampled_char = tokenizer_Y.index_word[sampled_token_index]\n",
        "\n",
        "        # Exit condition: either hit max length\n",
        "        # or find stop character.\n",
        "        if (sampled_char == 'endseq' or len(decoded_sentence.split()) > 25): \n",
        "            break\n",
        "\n",
        "        decoded_sentence += ' '+sampled_char \n",
        "\n",
        "        \n",
        "\n",
        "        # Update the target sequence (of length 1).\n",
        "        target_seq = np.zeros((1,1))\n",
        "        target_seq[0, 0] = sampled_token_index\n",
        " \n",
        "\n",
        "    return decoded_sentence"
      ],
      "execution_count": 82,
      "outputs": []
    },
    {
      "cell_type": "code",
      "metadata": {
        "id": "F9XkOwrSTqoO",
        "colab_type": "code",
        "colab": {
          "base_uri": "https://localhost:8080/",
          "height": 68
        },
        "outputId": "bfe8f245-5247-4f34-d412-eca73e3fd330"
      },
      "source": [
        "index = 22432\n",
        "print(\"English: {}\".format(df.iloc[index]['eng']))\n",
        "print(\"Acutal Ger: {}\".format(df.iloc[index]['ger']))\n",
        "print(\"Predicted Ger: {}\".format(decode_sequence(df.iloc[index]['eng']))) "
      ],
      "execution_count": 83,
      "outputs": [
        {
          "output_type": "stream",
          "text": [
            "English: startseq tom will remember endseq\n",
            "Acutal Ger: startseq tom wird sich erinnern endseq\n",
            "Predicted Ger:  tom wird sich erinnern an den wir erinnern\n"
          ],
          "name": "stdout"
        }
      ]
    },
    {
      "cell_type": "code",
      "metadata": {
        "id": "aPlF0vKaFjYh",
        "colab_type": "code",
        "colab": {
          "base_uri": "https://localhost:8080/",
          "height": 68
        },
        "outputId": "6beb604a-3cb8-4c5c-a46f-54cb12f7f395"
      },
      "source": [
        "index = 3523\n",
        "print(\"English: {}\".format(df.iloc[index]['eng']))\n",
        "print(\"Acutal Ger: {}\".format(df.iloc[index]['ger']))\n",
        "print(\"Predicted Ger: {}\".format(decode_sequence(df.iloc[index]['eng']))) "
      ],
      "execution_count": 89,
      "outputs": [
        {
          "output_type": "stream",
          "text": [
            "English: startseq im so tired endseq\n",
            "Acutal Ger: startseq ich bin so müde endseq\n",
            "Predicted Ger:  ich gebe das zu dass ich zu weinen war\n"
          ],
          "name": "stdout"
        }
      ]
    },
    {
      "cell_type": "code",
      "metadata": {
        "id": "NQd488fzVJBa",
        "colab_type": "code",
        "colab": {
          "base_uri": "https://localhost:8080/",
          "height": 51
        },
        "outputId": "29e53edb-a59a-4293-db48-088d1b96a0ab"
      },
      "source": [
        "a = \"hi there, how are you!\"\n",
        "print(\"English Text: {}\".format(a))\n",
        "print(\"Translated Text: {}\".format(decode_sequence(a)))"
      ],
      "execution_count": 84,
      "outputs": [
        {
          "output_type": "stream",
          "text": [
            "English Text: hi there, how are you!\n",
            "Translated Text:  hey wie gehts\n"
          ],
          "name": "stdout"
        }
      ]
    },
    {
      "cell_type": "code",
      "metadata": {
        "id": "Iegg3SwfFZ_0",
        "colab_type": "code",
        "colab": {
          "base_uri": "https://localhost:8080/",
          "height": 51
        },
        "outputId": "5ab0ce71-3c4d-4274-ff59-7386d2e5e216"
      },
      "source": [
        "a = \"let us go for a trip\"\n",
        "print(\"English Text: {}\".format(a))\n",
        "print(\"Translated Text: {}\".format(decode_sequence(a)))"
      ],
      "execution_count": 94,
      "outputs": [
        {
          "output_type": "stream",
          "text": [
            "English Text: let us go for a trip\n",
            "Translated Text:  lasst uns eine reise gehen\n"
          ],
          "name": "stdout"
        }
      ]
    },
    {
      "cell_type": "code",
      "metadata": {
        "id": "9afbIvZcCpfX",
        "colab_type": "code",
        "colab": {
          "base_uri": "https://localhost:8080/",
          "height": 51
        },
        "outputId": "8838ea17-2a7d-4fad-be45-7f36079b5fcd"
      },
      "source": [
        "a = \"Finally, I am done with this assignment\"\n",
        "print(\"English Text: {}\".format(a))\n",
        "print(\"Translated Text: {}\".format(decode_sequence(a)))"
      ],
      "execution_count": 85,
      "outputs": [
        {
          "output_type": "stream",
          "text": [
            "English Text: Finally, I am done with this assignment\n",
            "Translated Text:  schon ich bin mit diesem wochenende zu tun\n"
          ],
          "name": "stdout"
        }
      ]
    },
    {
      "cell_type": "code",
      "metadata": {
        "id": "vgocsLb4EHg2",
        "colab_type": "code",
        "colab": {}
      },
      "source": [
        ""
      ],
      "execution_count": null,
      "outputs": []
    }
  ]
}